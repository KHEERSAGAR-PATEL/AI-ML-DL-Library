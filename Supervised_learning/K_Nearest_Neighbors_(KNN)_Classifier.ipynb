{
  "nbformat": 4,
  "nbformat_minor": 0,
  "metadata": {
    "colab": {
      "provenance": []
    },
    "kernelspec": {
      "name": "python3",
      "display_name": "Python 3"
    },
    "language_info": {
      "name": "python"
    }
  },
  "cells": [
    {
      "cell_type": "code",
      "execution_count": null,
      "metadata": {
        "id": "sRPjQqyEaL51"
      },
      "outputs": [],
      "source": [
        "import numpy as np\n",
        "from scipy.spatial.distance import euclidean\n",
        "\n",
        "class KNearestNeighbors:\n",
        "    \"\"\"K-Nearest Neighbors (KNN) Classifier\n",
        "\n",
        "    Parameters:\n",
        "    -----------\n",
        "    k : int, optional (default=5)\n",
        "        The number of closest neighbors to consider when determining the\n",
        "        class of a test sample.\n",
        "    \"\"\"\n",
        "    def __init__(self, k=5):\n",
        "        self.k = k\n",
        "\n",
        "    def _get_most_frequent_label(self, neighbor_labels):\n",
        "        \"\"\"Identify the most frequent label among the nearest neighbors.\n",
        "\n",
        "        Parameters:\n",
        "        -----------\n",
        "        neighbor_labels : array-like\n",
        "            Labels of the k-nearest neighbors.\n",
        "\n",
        "        Returns:\n",
        "        --------\n",
        "        int\n",
        "            The most common label among the neighbors.\n",
        "        \"\"\"\n",
        "        counts = np.bincount(neighbor_labels.astype(int))\n",
        "        return np.argmax(counts)\n",
        "\n",
        "    def predict(self, X_test, X_train, y_train):\n",
        "        \"\"\"Predict the class labels for the test samples.\n",
        "\n",
        "        Parameters:\n",
        "        -----------\n",
        "        X_test : array-like, shape (n_samples, n_features)\n",
        "            New data to predict.\n",
        "        X_train : array-like, shape (n_samples, n_features)\n",
        "            Training data.\n",
        "        y_train : array-like, shape (n_samples,)\n",
        "            Labels for training data.\n",
        "\n",
        "        Returns:\n",
        "        --------\n",
        "        y_pred : array, shape (n_samples,)\n",
        "            Predicted class labels for each test sample.\n",
        "        \"\"\"\n",
        "        y_pred = np.empty(X_test.shape[0])\n",
        "\n",
        "        # Iterate over each test sample to predict its label\n",
        "        for i, test_sample in enumerate(X_test):\n",
        "            # Compute distances from the test sample to all training samples\n",
        "            distances = [euclidean(test_sample, x) for x in X_train]\n",
        "            # Identify indices of the k-nearest neighbors\n",
        "            k_nearest_indices = np.argsort(distances)[:self.k]\n",
        "            # Retrieve the labels of the nearest neighbors\n",
        "            k_nearest_labels = y_train[k_nearest_indices]\n",
        "            # Determine the most common label among the neighbors\n",
        "            y_pred[i] = self._get_most_frequent_label(k_nearest_labels)\n",
        "\n",
        "        return y_pred\n"
      ]
    }
  ]
}