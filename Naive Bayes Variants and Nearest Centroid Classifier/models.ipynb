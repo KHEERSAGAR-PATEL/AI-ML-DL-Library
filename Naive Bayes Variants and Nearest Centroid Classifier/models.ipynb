{
 "cells": [
  {
   "cell_type": "code",
   "execution_count": null,
   "metadata": {
    "colab": {
     "base_uri": "https://localhost:8080/"
    },
    "id": "T3pdEh--So6s",
    "outputId": "e0a06c07-5f9a-4f26-b70f-aa54e1c50a11"
   },
   "outputs": [
    {
     "name": "stdout",
     "output_type": "stream",
     "text": [
      "              BernoulliNB  ComplementNB  GaussianNB  NearestCentroid  \\\n",
      "Iris Dataset     0.288889      0.955556    0.977778         0.955556   \n",
      "\n",
      "              MultinomialNB  \n",
      "Iris Dataset       0.955556  \n"
     ]
    }
   ],
   "source": [
    "import numpy as np\n",
    "import pandas as pd\n",
    "from sklearn.model_selection import train_test_split\n",
    "from sklearn.metrics import accuracy_score\n",
    "from sklearn.datasets import load_iris\n",
    "\n",
    "# Load the Iris dataset\n",
    "iris = load_iris()\n",
    "X, y = iris.data, iris.target\n",
    "\n",
    "class BernoulliNB:\n",
    "    def fit(self, X, y):\n",
    "        X = np.asarray(X)\n",
    "        y = np.asarray(y)\n",
    "\n",
    "\n",
    "        X = (X > 0).astype(int)\n",
    "        self.classes_ = np.unique(y)\n",
    "        self.class_prior_ = np.array([np.mean(y == c) for c in self.classes_])\n",
    "\n",
    "\n",
    "        self.feature_prob_ = np.clip(\n",
    "            np.array([X[y == c].mean(axis=0) for c in self.classes_]), 1e-9, 1 - 1e-9\n",
    "        )\n",
    "\n",
    "    def predict(self, X):\n",
    "\n",
    "        X = (X > 0).astype(int)\n",
    "\n",
    "        log_prob = [\n",
    "            (np.log(self.class_prior_[i]) +\n",
    "             np.sum(X * np.log(self.feature_prob_[i]) +\n",
    "                    (1 - X) * np.log(1 - self.feature_prob_[i]), axis=1))\n",
    "            for i in range(len(self.classes_))\n",
    "        ]\n",
    "        return self.classes_[np.argmax(np.vstack(log_prob), axis=0)]\n",
    "\n",
    "\n",
    "class ComplementNB:\n",
    "    def fit(self, X, y):\n",
    "        self.classes_ = np.unique(y)\n",
    "        self.class_prior_ = np.array([np.mean(y == c) for c in self.classes_])\n",
    "        total_counts = np.array([(X[y == c].sum(axis=0) + 1) for c in self.classes_])\n",
    "        self.feature_prob_ = (total_counts.T / total_counts.sum(axis=1)).T\n",
    "\n",
    "    def predict(self, X):\n",
    "        log_prob = [np.log(self.class_prior_[i]) + np.sum(X * np.log(self.feature_prob_[i]), axis=1)\n",
    "                    for i in range(len(self.classes_))]\n",
    "        return self.classes_[np.argmax(np.vstack(log_prob), axis=0)]\n",
    "\n",
    "class GaussianNB:\n",
    "    def fit(self, X, y):\n",
    "        self.classes_ = np.unique(y)\n",
    "        self.class_prior_ = np.array([np.mean(y == c) for c in self.classes_])\n",
    "        self.mean_ = np.array([X[y == c].mean(axis=0) for c in self.classes_])\n",
    "        self.var_ = np.array([X[y == c].var(axis=0) for c in self.classes_])\n",
    "\n",
    "        self.var_ = np.clip(self.var_, 1e-9, None)\n",
    "\n",
    "    def predict(self, X):\n",
    "        log_prob = [\n",
    "            -0.5 * np.sum(np.log(2 * np.pi * self.var_[i])) -\n",
    "            0.5 * np.sum(((X - self.mean_[i]) ** 2) / self.var_[i], axis=1) +\n",
    "            np.log(self.class_prior_[i])\n",
    "            for i in range(len(self.classes_))\n",
    "        ]\n",
    "        return self.classes_[np.argmax(np.vstack(log_prob), axis=0)]\n",
    "\n",
    "\n",
    "class NearestCentroid:\n",
    "    def fit(self, X, y):\n",
    "        self.classes_ = np.unique(y)\n",
    "        self.centroids_ = np.array([X[y == c].mean(axis=0) for c in self.classes_])\n",
    "\n",
    "    def predict(self, X):\n",
    "        distances = [np.linalg.norm(X - centroid, axis=1) for centroid in self.centroids_]\n",
    "        return self.classes_[np.argmin(np.vstack(distances), axis=0)]\n",
    "\n",
    "class MultinomialNB:\n",
    "    def fit(self, X, y):\n",
    "        self.classes_ = np.unique(y)\n",
    "        self.class_prior_ = np.array([np.mean(y == c) for c in self.classes_])\n",
    "        total_counts = np.array([(X[y == c].sum(axis=0) + 1) for c in self.classes_])\n",
    "        self.feature_prob_ = (total_counts.T / total_counts.sum(axis=1)).T\n",
    "\n",
    "    def predict(self, X):\n",
    "        log_prob = [(np.log(self.class_prior_[i]) + np.sum(X * np.log(self.feature_prob_[i]), axis=1))\n",
    "                    for i in range(len(self.classes_))]\n",
    "        return self.classes_[np.argmax(np.vstack(log_prob), axis=0)]\n",
    "\n",
    "\n",
    "models = {\n",
    "    'BernoulliNB': BernoulliNB(),\n",
    "    'ComplementNB': ComplementNB(),\n",
    "    'GaussianNB': GaussianNB(),\n",
    "    'NearestCentroid': NearestCentroid(),\n",
    "    'MultinomialNB': MultinomialNB()\n",
    "}\n",
    "\n",
    "def evaluate_models(X, y):\n",
    "    X_train, X_test, y_train, y_test = train_test_split(X, y, test_size=0.3, random_state=42)\n",
    "    results = {}\n",
    "    for model_name, model in models.items():\n",
    "        model.fit(X_train, y_train)\n",
    "        y_pred = model.predict(X_test)\n",
    "        accuracy = accuracy_score(y_test, y_pred)\n",
    "        results[model_name] = accuracy\n",
    "    return results\n",
    "\n",
    "\n",
    "results = evaluate_models(X, y)\n",
    "\n",
    "results_df = pd.DataFrame([results], index=[\"Iris Dataset\"])\n",
    "print(results_df)\n"
   ]
  },
  {
   "cell_type": "code",
   "execution_count": null,
   "metadata": {
    "colab": {
     "base_uri": "https://localhost:8080/"
    },
    "id": "H4kj-d-ssgPW",
    "outputId": "afec5b27-8222-4c1b-8067-18eb40815a70"
   },
   "outputs": [
    {
     "name": "stdout",
     "output_type": "stream",
     "text": [
      "Training BernoulliNB...\n",
      "BernoulliNB Accuracy: 0.1021\n",
      "Training ComplementNB...\n",
      "ComplementNB Accuracy: 0.8281\n",
      "Training GaussianNB...\n",
      "GaussianNB Accuracy: 0.5619\n",
      "Training NearestCentroid...\n",
      "NearestCentroid Accuracy: 0.8134\n",
      "Training MultinomialNB...\n",
      "MultinomialNB Accuracy: 0.8281\n"
     ]
    }
   ],
   "source": [
    "import numpy as np\n",
    "from sklearn.datasets import fetch_openml\n",
    "from sklearn.model_selection import train_test_split\n",
    "from sklearn.metrics import accuracy_score\n",
    "from sklearn.preprocessing import StandardScaler\n",
    "# Load MNIST data\n",
    "mnist = fetch_openml('mnist_784', version=1)\n",
    "X, y = mnist.data, mnist.target.astype(int)\n",
    "\n",
    "X = X / 255.0  \n",
    "X_binary = (X > 0.5).astype(int)  \n",
    "X_train, X_test, y_train, y_test = train_test_split(X, y, test_size=0.2, random_state=42)\n",
    "X_train_binary, X_test_binary = X_binary[:len(X_train)], X_binary[len(X_train):]\n",
    "scaler = StandardScaler()\n",
    "X_train_scaled = scaler.fit_transform(X_train)\n",
    "X_test_scaled = scaler.transform(X_test)\n",
    "# Instantiate your models\n",
    "models = {\n",
    "    'BernoulliNB': BernoulliNB(),\n",
    "    'ComplementNB': ComplementNB(),\n",
    "    'GaussianNB': GaussianNB(),\n",
    "    'NearestCentroid': NearestCentroid(),\n",
    "    'MultinomialNB': MultinomialNB()\n",
    "}\n",
    "\n",
    "for name, model in models.items():\n",
    "    print(f\"Training {name}...\")\n",
    "\n",
    "    if name == 'BernoulliNB':\n",
    "        model.fit(X_train_binary, y_train)  \n",
    "        predictions = model.predict(X_test_binary)\n",
    "    else:\n",
    "        model.fit(X_train, y_train)\n",
    "        predictions = model.predict(X_test)\n",
    "\n",
    "    accuracy = accuracy_score(y_test, predictions)\n",
    "    print(f\"{name} Accuracy: {accuracy:.4f}\")\n"
   ]
  },
  {
   "cell_type": "code",
   "execution_count": 15,
   "metadata": {
    "colab": {
     "base_uri": "https://localhost:8080/"
    },
    "id": "OqBSmJYMnsau",
    "outputId": "f844b0bd-2ba7-4554-ba62-a67421c1c749"
   },
   "outputs": [
    {
     "name": "stdout",
     "output_type": "stream",
     "text": [
      "Training BernoulliNB...\n",
      "BernoulliNB Accuracy: 0.9649\n",
      "Training ComplementNB...\n",
      "ComplementNB Accuracy: 0.9386\n",
      "Training GaussianNB...\n",
      "GaussianNB Accuracy: 0.9649\n",
      "Training NearestCentroid...\n",
      "NearestCentroid Accuracy: 0.9386\n",
      "Training MultinomialNB...\n",
      "MultinomialNB Accuracy: 0.9386\n"
     ]
    }
   ],
   "source": [
    "from sklearn.datasets import load_breast_cancer\n",
    "from sklearn.model_selection import train_test_split\n",
    "from sklearn.metrics import accuracy_score\n",
    "from sklearn.preprocessing import StandardScaler\n",
    "\n",
    "# Load Breast Cancer dataset\n",
    "data = load_breast_cancer()\n",
    "X, y = data.data, data.target  # Features and labels\n",
    "\n",
    "# Split into training and test sets\n",
    "X_train, X_test, y_train, y_test = train_test_split(X, y, test_size=0.2, random_state=42)\n",
    "\n",
    "# Normalize features for GaussianNB\n",
    "scaler = StandardScaler()\n",
    "X_train_scaled = scaler.fit_transform(X_train)\n",
    "X_test_scaled = scaler.transform(X_test)\n",
    "\n",
    "# Binarize features for BernoulliNB\n",
    "X_train_binary = (X_train > X_train.mean(axis=0)).astype(int)\n",
    "X_test_binary = (X_test > X_test.mean(axis=0)).astype(int)\n",
    "\n",
    "# Define custom models\n",
    "models = {\n",
    "    'BernoulliNB': BernoulliNB(),\n",
    "    'ComplementNB': ComplementNB(),\n",
    "    'GaussianNB': GaussianNB(),\n",
    "    'NearestCentroid': NearestCentroid(),\n",
    "    'MultinomialNB': MultinomialNB()\n",
    "}\n",
    "\n",
    "# Train and evaluate models\n",
    "for name, model in models.items():\n",
    "    print(f\"Training {name}...\")\n",
    "\n",
    "    if name == 'GaussianNB':\n",
    "        model.fit(X_train_scaled, y_train)  # Scaled features\n",
    "        predictions = model.predict(X_test_scaled)\n",
    "    elif name == 'BernoulliNB':\n",
    "        model.fit(X_train_binary, y_train)  # Binary features\n",
    "        predictions = model.predict(X_test_binary)\n",
    "    else:\n",
    "        model.fit(X_train, y_train)  # Original features\n",
    "        predictions = model.predict(X_test)\n",
    "\n",
    "    accuracy = accuracy_score(y_test, predictions)\n",
    "    print(f\"{name} Accuracy: {accuracy:.4f}\")\n"
   ]
  },
  {
   "cell_type": "code",
   "execution_count": 16,
   "metadata": {
    "colab": {
     "base_uri": "https://localhost:8080/"
    },
    "id": "6EjZzyX6ufvF",
    "outputId": "956ddf31-600a-49dd-818b-f81c72f32f87"
   },
   "outputs": [
    {
     "name": "stdout",
     "output_type": "stream",
     "text": [
      "Training BernoulliNB...\n",
      "BernoulliNB Accuracy: 0.8861\n",
      "Training ComplementNB...\n",
      "ComplementNB Accuracy: 0.9111\n",
      "Training GaussianNB...\n",
      "GaussianNB Accuracy: 0.7667\n",
      "Training NearestCentroid...\n",
      "NearestCentroid Accuracy: 0.9000\n",
      "Training MultinomialNB...\n",
      "MultinomialNB Accuracy: 0.9111\n"
     ]
    }
   ],
   "source": [
    "from sklearn.datasets import load_digits\n",
    "from sklearn.model_selection import train_test_split\n",
    "from sklearn.metrics import accuracy_score\n",
    "from sklearn.preprocessing import StandardScaler\n",
    "\n",
    "# Load the Digits dataset\n",
    "digits = load_digits()\n",
    "X, y = digits.data, digits.target\n",
    "\n",
    "# Split into training and test sets\n",
    "X_train, X_test, y_train, y_test = train_test_split(X, y, test_size=0.2, random_state=42)\n",
    "\n",
    "# Normalize features for GaussianNB\n",
    "scaler = StandardScaler()\n",
    "X_train_scaled = scaler.fit_transform(X_train)\n",
    "X_test_scaled = scaler.transform(X_test)\n",
    "\n",
    "# Binarize features for BernoulliNB\n",
    "X_train_binary = (X_train > X_train.mean(axis=0)).astype(int)\n",
    "X_test_binary = (X_test > X_test.mean(axis=0)).astype(int)\n",
    "\n",
    "# Define custom models\n",
    "models = {\n",
    "    'BernoulliNB': BernoulliNB(),\n",
    "    'ComplementNB': ComplementNB(),\n",
    "    'GaussianNB': GaussianNB(),\n",
    "    'NearestCentroid': NearestCentroid(),\n",
    "    'MultinomialNB': MultinomialNB()\n",
    "}\n",
    "\n",
    "# Train and evaluate models\n",
    "for name, model in models.items():\n",
    "    print(f\"Training {name}...\")\n",
    "\n",
    "    if name == 'GaussianNB':\n",
    "        model.fit(X_train_scaled, y_train)  # Scaled features\n",
    "        predictions = model.predict(X_test_scaled)\n",
    "    elif name == 'BernoulliNB':\n",
    "        model.fit(X_train_binary, y_train)  # Binary features\n",
    "        predictions = model.predict(X_test_binary)\n",
    "    else:\n",
    "        model.fit(X_train, y_train)  # Original features\n",
    "        predictions = model.predict(X_test)\n",
    "\n",
    "    accuracy = accuracy_score(y_test, predictions)\n",
    "    print(f\"{name} Accuracy: {accuracy:.4f}\")\n"
   ]
  },
  {
   "cell_type": "code",
   "execution_count": 19,
   "metadata": {
    "colab": {
     "base_uri": "https://localhost:8080/"
    },
    "id": "QGmKrppwuiyM",
    "outputId": "461e31f5-55b6-478e-8998-17584aacc016"
   },
   "outputs": [
    {
     "name": "stderr",
     "output_type": "stream",
     "text": [
      "WARNING:openml:No permission to create OpenML directory at /root/.config/openml! This can result in OpenML-Python not working properly.\n"
     ]
    },
    {
     "name": "stdout",
     "output_type": "stream",
     "text": [
      "Training BernoulliNB...\n",
      "BernoulliNB Accuracy: 0.8979\n",
      "Training ComplementNB...\n",
      "ComplementNB Accuracy: 0.7861\n",
      "Training GaussianNB...\n",
      "GaussianNB Accuracy: 0.8219\n",
      "Training NearestCentroid...\n",
      "NearestCentroid Accuracy: 0.6395\n",
      "Training MultinomialNB...\n",
      "MultinomialNB Accuracy: 0.7861\n"
     ]
    }
   ],
   "source": [
    "import openml\n",
    "from sklearn.model_selection import train_test_split\n",
    "from sklearn.metrics import accuracy_score\n",
    "from sklearn.preprocessing import StandardScaler\n",
    "\n",
    "# Load Spambase dataset from OpenML\n",
    "spambase = openml.datasets.get_dataset(44)  # ID 44 corresponds to Spambase\n",
    "X, y, _, _ = spambase.get_data(target=spambase.default_target_attribute)\n",
    "\n",
    "# Split into training and test sets\n",
    "X_train, X_test, y_train, y_test = train_test_split(X, y, test_size=0.2, random_state=42)\n",
    "\n",
    "# Normalize features for GaussianNB\n",
    "scaler = StandardScaler()\n",
    "X_train_scaled = scaler.fit_transform(X_train)\n",
    "X_test_scaled = scaler.transform(X_test)\n",
    "\n",
    "# Binarize features for BernoulliNB\n",
    "X_train_binary = (X_train > X_train.mean(axis=0)).astype(int)\n",
    "X_test_binary = (X_test > X_test.mean(axis=0)).astype(int)\n",
    "\n",
    "# Define custom models\n",
    "models = {\n",
    "    'BernoulliNB': BernoulliNB(),\n",
    "    'ComplementNB': ComplementNB(),\n",
    "    'GaussianNB': GaussianNB(),\n",
    "    'NearestCentroid': NearestCentroid(),\n",
    "    'MultinomialNB': MultinomialNB()\n",
    "}\n",
    "\n",
    "# Train and evaluate models\n",
    "for name, model in models.items():\n",
    "    print(f\"Training {name}...\")\n",
    "\n",
    "    if name == 'GaussianNB':\n",
    "        model.fit(X_train_scaled, y_train)  # Scaled features\n",
    "        predictions = model.predict(X_test_scaled)\n",
    "    elif name == 'BernoulliNB':\n",
    "        model.fit(X_train_binary, y_train)  # Binary features\n",
    "        predictions = model.predict(X_test_binary)\n",
    "    else:\n",
    "        model.fit(X_train, y_train)  # Original features\n",
    "        predictions = model.predict(X_test)\n",
    "\n",
    "    accuracy = accuracy_score(y_test, predictions)\n",
    "    print(f\"{name} Accuracy: {accuracy:.4f}\")\n"
   ]
  },
  {
   "cell_type": "code",
   "execution_count": null,
   "metadata": {
    "id": "mMC1_9Whu9Y8"
   },
   "outputs": [],
   "source": []
  },
  {
   "cell_type": "code",
   "execution_count": 20,
   "metadata": {
    "colab": {
     "base_uri": "https://localhost:8080/"
    },
    "id": "J7jQiRFtvEAy",
    "outputId": "b4a7d88f-7272-4801-d985-5a0d9218b91a"
   },
   "outputs": [
    {
     "name": "stdout",
     "output_type": "stream",
     "text": [
      "Training BernoulliNB...\n",
      "BernoulliNB Accuracy: 0.6753\n",
      "Training ComplementNB...\n",
      "ComplementNB Accuracy: 0.6623\n",
      "Training GaussianNB...\n",
      "GaussianNB Accuracy: 0.7662\n",
      "Training NearestCentroid...\n",
      "NearestCentroid Accuracy: 0.6753\n",
      "Training MultinomialNB...\n",
      "MultinomialNB Accuracy: 0.6623\n"
     ]
    }
   ],
   "source": [
    "import openml\n",
    "from sklearn.model_selection import train_test_split\n",
    "from sklearn.metrics import accuracy_score\n",
    "from sklearn.preprocessing import StandardScaler\n",
    "\n",
    "# Load Diabetes dataset from OpenML\n",
    "diabetes = openml.datasets.get_dataset(37)  # ID 37 corresponds to the Diabetes dataset\n",
    "X, y, _, _ = diabetes.get_data(target=diabetes.default_target_attribute)\n",
    "\n",
    "# Split into training and test sets\n",
    "X_train, X_test, y_train, y_test = train_test_split(X, y, test_size=0.2, random_state=42)\n",
    "\n",
    "# Normalize features for GaussianNB\n",
    "scaler = StandardScaler()\n",
    "X_train_scaled = scaler.fit_transform(X_train)\n",
    "X_test_scaled = scaler.transform(X_test)\n",
    "\n",
    "# Binarize features for BernoulliNB\n",
    "X_train_binary = (X_train > X_train.mean(axis=0)).astype(int)\n",
    "X_test_binary = (X_test > X_test.mean(axis=0)).astype(int)\n",
    "\n",
    "# Define custom models\n",
    "models = {\n",
    "    'BernoulliNB': BernoulliNB(),\n",
    "    'ComplementNB': ComplementNB(),\n",
    "    'GaussianNB': GaussianNB(),\n",
    "    'NearestCentroid': NearestCentroid(),\n",
    "    'MultinomialNB': MultinomialNB()\n",
    "}\n",
    "\n",
    "# Train and evaluate models\n",
    "for name, model in models.items():\n",
    "    print(f\"Training {name}...\")\n",
    "\n",
    "    if name == 'GaussianNB':\n",
    "        model.fit(X_train_scaled, y_train)  # Scaled features\n",
    "        predictions = model.predict(X_test_scaled)\n",
    "    elif name == 'BernoulliNB':\n",
    "        model.fit(X_train_binary, y_train)  # Binary features\n",
    "        predictions = model.predict(X_test_binary)\n",
    "    else:\n",
    "        model.fit(X_train, y_train)  # Original features\n",
    "        predictions = model.predict(X_test)\n",
    "\n",
    "    accuracy = accuracy_score(y_test, predictions)\n",
    "    print(f\"{name} Accuracy: {accuracy:.4f}\")\n"
   ]
  },
  {
   "cell_type": "code",
   "execution_count": 18,
   "metadata": {
    "colab": {
     "base_uri": "https://localhost:8080/"
    },
    "collapsed": true,
    "id": "qpXLdvBrux-Z",
    "outputId": "d75d834c-3dac-4053-cb65-5d72eb8fa04a"
   },
   "outputs": [
    {
     "name": "stdout",
     "output_type": "stream",
     "text": [
      "Collecting openml\n",
      "  Downloading openml-0.15.0-py3-none-any.whl.metadata (9.9 kB)\n",
      "Collecting liac-arff>=2.4.0 (from openml)\n",
      "  Downloading liac-arff-2.5.0.tar.gz (13 kB)\n",
      "  Preparing metadata (setup.py) ... \u001b[?25l\u001b[?25hdone\n",
      "Collecting xmltodict (from openml)\n",
      "  Downloading xmltodict-0.14.2-py2.py3-none-any.whl.metadata (8.0 kB)\n",
      "Requirement already satisfied: requests in /usr/local/lib/python3.10/dist-packages (from openml) (2.32.3)\n",
      "Requirement already satisfied: scikit-learn>=0.18 in /usr/local/lib/python3.10/dist-packages (from openml) (1.5.2)\n",
      "Requirement already satisfied: python-dateutil in /usr/local/lib/python3.10/dist-packages (from openml) (2.8.2)\n",
      "Requirement already satisfied: pandas>=1.0.0 in /usr/local/lib/python3.10/dist-packages (from openml) (2.2.2)\n",
      "Requirement already satisfied: scipy>=0.13.3 in /usr/local/lib/python3.10/dist-packages (from openml) (1.13.1)\n",
      "Requirement already satisfied: numpy>=1.6.2 in /usr/local/lib/python3.10/dist-packages (from openml) (1.26.4)\n",
      "Collecting minio (from openml)\n",
      "  Downloading minio-7.2.10-py3-none-any.whl.metadata (6.5 kB)\n",
      "Requirement already satisfied: pyarrow in /usr/local/lib/python3.10/dist-packages (from openml) (17.0.0)\n",
      "Requirement already satisfied: tqdm in /usr/local/lib/python3.10/dist-packages (from openml) (4.66.6)\n",
      "Requirement already satisfied: packaging in /usr/local/lib/python3.10/dist-packages (from openml) (24.2)\n",
      "Requirement already satisfied: pytz>=2020.1 in /usr/local/lib/python3.10/dist-packages (from pandas>=1.0.0->openml) (2024.2)\n",
      "Requirement already satisfied: tzdata>=2022.7 in /usr/local/lib/python3.10/dist-packages (from pandas>=1.0.0->openml) (2024.2)\n",
      "Requirement already satisfied: six>=1.5 in /usr/local/lib/python3.10/dist-packages (from python-dateutil->openml) (1.16.0)\n",
      "Requirement already satisfied: joblib>=1.2.0 in /usr/local/lib/python3.10/dist-packages (from scikit-learn>=0.18->openml) (1.4.2)\n",
      "Requirement already satisfied: threadpoolctl>=3.1.0 in /usr/local/lib/python3.10/dist-packages (from scikit-learn>=0.18->openml) (3.5.0)\n",
      "Requirement already satisfied: certifi in /usr/local/lib/python3.10/dist-packages (from minio->openml) (2024.8.30)\n",
      "Requirement already satisfied: urllib3 in /usr/local/lib/python3.10/dist-packages (from minio->openml) (2.2.3)\n",
      "Requirement already satisfied: argon2-cffi in /usr/local/lib/python3.10/dist-packages (from minio->openml) (23.1.0)\n",
      "Collecting pycryptodome (from minio->openml)\n",
      "  Downloading pycryptodome-3.21.0-cp36-abi3-manylinux_2_17_x86_64.manylinux2014_x86_64.whl.metadata (3.4 kB)\n",
      "Requirement already satisfied: typing-extensions in /usr/local/lib/python3.10/dist-packages (from minio->openml) (4.12.2)\n",
      "Requirement already satisfied: charset-normalizer<4,>=2 in /usr/local/lib/python3.10/dist-packages (from requests->openml) (3.4.0)\n",
      "Requirement already satisfied: idna<4,>=2.5 in /usr/local/lib/python3.10/dist-packages (from requests->openml) (3.10)\n",
      "Requirement already satisfied: argon2-cffi-bindings in /usr/local/lib/python3.10/dist-packages (from argon2-cffi->minio->openml) (21.2.0)\n",
      "Requirement already satisfied: cffi>=1.0.1 in /usr/local/lib/python3.10/dist-packages (from argon2-cffi-bindings->argon2-cffi->minio->openml) (1.17.1)\n",
      "Requirement already satisfied: pycparser in /usr/local/lib/python3.10/dist-packages (from cffi>=1.0.1->argon2-cffi-bindings->argon2-cffi->minio->openml) (2.22)\n",
      "Downloading openml-0.15.0-py3-none-any.whl (157 kB)\n",
      "\u001b[2K   \u001b[90m━━━━━━━━━━━━━━━━━━━━━━━━━━━━━━━━━━━━━━━━\u001b[0m \u001b[32m158.0/158.0 kB\u001b[0m \u001b[31m3.7 MB/s\u001b[0m eta \u001b[36m0:00:00\u001b[0m\n",
      "\u001b[?25hDownloading minio-7.2.10-py3-none-any.whl (93 kB)\n",
      "\u001b[2K   \u001b[90m━━━━━━━━━━━━━━━━━━━━━━━━━━━━━━━━━━━━━━━━\u001b[0m \u001b[32m93.9/93.9 kB\u001b[0m \u001b[31m6.6 MB/s\u001b[0m eta \u001b[36m0:00:00\u001b[0m\n",
      "\u001b[?25hDownloading xmltodict-0.14.2-py2.py3-none-any.whl (10.0 kB)\n",
      "Downloading pycryptodome-3.21.0-cp36-abi3-manylinux_2_17_x86_64.manylinux2014_x86_64.whl (2.3 MB)\n",
      "\u001b[2K   \u001b[90m━━━━━━━━━━━━━━━━━━━━━━━━━━━━━━━━━━━━━━━━\u001b[0m \u001b[32m2.3/2.3 MB\u001b[0m \u001b[31m29.0 MB/s\u001b[0m eta \u001b[36m0:00:00\u001b[0m\n",
      "\u001b[?25hBuilding wheels for collected packages: liac-arff\n",
      "  Building wheel for liac-arff (setup.py) ... \u001b[?25l\u001b[?25hdone\n",
      "  Created wheel for liac-arff: filename=liac_arff-2.5.0-py3-none-any.whl size=11716 sha256=3e85335e82c4ceebb368d278859c3eb6a0514efa34fdca30ef264633230248af\n",
      "  Stored in directory: /root/.cache/pip/wheels/5d/2a/9c/3895d9617f8f49a0883ba686326d598e78a1c2f54fe3cae86d\n",
      "Successfully built liac-arff\n",
      "Installing collected packages: xmltodict, pycryptodome, liac-arff, minio, openml\n",
      "Successfully installed liac-arff-2.5.0 minio-7.2.10 openml-0.15.0 pycryptodome-3.21.0 xmltodict-0.14.2\n"
     ]
    }
   ],
   "source": [
    "!pip install openml"
   ]
  },
  {
   "cell_type": "code",
   "execution_count": null,
   "metadata": {
    "colab": {
     "base_uri": "https://localhost:8080/"
    },
    "id": "tSExOCl2vTDl",
    "outputId": "69460f52-a2b6-410d-a4b7-3d5b4b66661e"
   },
   "outputs": [
    {
     "name": "stdout",
     "output_type": "stream",
     "text": [
      "Training BernoulliNB...\n",
      "BernoulliNB Accuracy: 0.7031\n",
      "Training ComplementNB...\n",
      "ComplementNB Accuracy: 0.6661\n",
      "Training GaussianNB...\n",
      "GaussianNB Accuracy: 0.5753\n",
      "Training NearestCentroid...\n",
      "NearestCentroid Accuracy: 0.6874\n",
      "Training MultinomialNB...\n",
      "MultinomialNB Accuracy: 0.6661\n"
     ]
    }
   ],
   "source": [
    "\n",
    "fashion_mnist = openml.datasets.get_dataset(40996)  \n",
    "X, y, _, _ = fashion_mnist.get_data(target=fashion_mnist.default_target_attribute)\n",
    "\n",
    "X_train, X_test, y_train, y_test = train_test_split(X, y, test_size=0.2, random_state=42)\n",
    "\n",
    "\n",
    "scaler = StandardScaler()\n",
    "X_train_scaled = scaler.fit_transform(X_train)\n",
    "X_test_scaled = scaler.transform(X_test)\n",
    "\n",
    "\n",
    "X_train_binary = (X_train > X_train.mean(axis=0)).astype(int)\n",
    "X_test_binary = (X_test > X_test.mean(axis=0)).astype(int)\n",
    "\n",
    "# Define custom models\n",
    "models = {\n",
    "    'BernoulliNB': BernoulliNB(),\n",
    "    'ComplementNB': ComplementNB(),\n",
    "    'GaussianNB': GaussianNB(),\n",
    "    'NearestCentroid': NearestCentroid(),\n",
    "    'MultinomialNB': MultinomialNB()\n",
    "}\n",
    "\n",
    "# Train and evaluate models\n",
    "for name, model in models.items():\n",
    "    print(f\"Training {name}...\")\n",
    "\n",
    "    if name == 'GaussianNB':\n",
    "        model.fit(X_train_scaled, y_train)  \n",
    "        predictions = model.predict(X_test_scaled)\n",
    "    elif name == 'BernoulliNB':\n",
    "        model.fit(X_train_binary, y_train) \n",
    "        predictions = model.predict(X_test_binary)\n",
    "    else:\n",
    "        model.fit(X_train, y_train) \n",
    "        predictions = model.predict(X_test)\n",
    "\n",
    "    accuracy = accuracy_score(y_test, predictions)\n",
    "    print(f\"{name} Accuracy: {accuracy:.4f}\")\n"
   ]
  },
  {
   "cell_type": "code",
   "execution_count": null,
   "metadata": {
    "colab": {
     "base_uri": "https://localhost:8080/"
    },
    "id": "kKIZV7WzvZcY",
    "outputId": "fc3c2947-a351-408a-f365-dfff4174984f"
   },
   "outputs": [
    {
     "name": "stdout",
     "output_type": "stream",
     "text": [
      "Training BernoulliNB...\n",
      "BernoulliNB Accuracy: 0.7400\n",
      "Training ComplementNB...\n",
      "ComplementNB Accuracy: 0.7333\n",
      "Training GaussianNB...\n",
      "GaussianNB Accuracy: 0.7533\n",
      "Training NearestCentroid...\n",
      "NearestCentroid Accuracy: 0.6800\n",
      "Training MultinomialNB...\n",
      "MultinomialNB Accuracy: 0.7333\n"
     ]
    }
   ],
   "source": [
    "\n",
    "banknote_auth = openml.datasets.get_dataset(1464) \n",
    "X, y, _, _ = banknote_auth.get_data(target=banknote_auth.default_target_attribute)\n",
    "\n",
    "X_train, X_test, y_train, y_test = train_test_split(X, y, test_size=0.2, random_state=42)\n",
    "\n",
    "scaler = StandardScaler()\n",
    "X_train_scaled = scaler.fit_transform(X_train)\n",
    "X_test_scaled = scaler.transform(X_test)\n",
    "\n",
    "X_train_binary = (X_train > X_train.mean(axis=0)).astype(int)\n",
    "X_test_binary = (X_test > X_test.mean(axis=0)).astype(int)\n",
    "\n",
    "models = {\n",
    "    'BernoulliNB': BernoulliNB(),\n",
    "    'ComplementNB': ComplementNB(),\n",
    "    'GaussianNB': GaussianNB(),\n",
    "    'NearestCentroid': NearestCentroid(),\n",
    "    'MultinomialNB': MultinomialNB()\n",
    "}\n",
    "\n",
    "# Train and evaluate models\n",
    "for name, model in models.items():\n",
    "    print(f\"Training {name}...\")\n",
    "\n",
    "    if name == 'GaussianNB':\n",
    "        model.fit(X_train_scaled, y_train)\n",
    "        predictions = model.predict(X_test_scaled)\n",
    "    elif name == 'BernoulliNB':\n",
    "        model.fit(X_train_binary, y_train)\n",
    "        predictions = model.predict(X_test_binary)\n",
    "    else:\n",
    "        model.fit(X_train, y_train) \n",
    "        predictions = model.predict(X_test)\n",
    "\n",
    "    accuracy = accuracy_score(y_test, predictions)\n",
    "    print(f\"{name} Accuracy: {accuracy:.4f}\")\n"
   ]
  },
  {
   "cell_type": "code",
   "execution_count": null,
   "metadata": {
    "colab": {
     "base_uri": "https://localhost:8080/"
    },
    "id": "TYTZ8HnHvmnk",
    "outputId": "52f670ea-1f74-4518-9f6d-83fd47194642"
   },
   "outputs": [
    {
     "name": "stdout",
     "output_type": "stream",
     "text": [
      "Training BernoulliNB...\n",
      "BernoulliNB Accuracy: 0.8550\n",
      "Training ComplementNB...\n",
      "ComplementNB Accuracy: 0.5458\n",
      "Training GaussianNB...\n",
      "GaussianNB Accuracy: 0.5496\n",
      "Training NearestCentroid...\n",
      "NearestCentroid Accuracy: 0.4695\n",
      "Training MultinomialNB...\n",
      "MultinomialNB Accuracy: 0.5458\n"
     ]
    }
   ],
   "source": [
    "titanic = openml.datasets.get_dataset(40945)\n",
    "X, y, _, _ = titanic.get_data(target=titanic.default_target_attribute)\n",
    "\n",
    "X = pd.get_dummies(X, drop_first=True)\n",
    "\n",
    "X_train, X_test, y_train, y_test = train_test_split(X, y, test_size=0.2, random_state=42)\n",
    "\n",
    "scaler = StandardScaler()\n",
    "X_train_scaled = scaler.fit_transform(X_train)\n",
    "X_test_scaled = scaler.transform(X_test)\n",
    "\n",
    "X_train_binary = (X_train > X_train.mean(axis=0)).astype(int)\n",
    "X_test_binary = (X_test > X_test.mean(axis=0)).astype(int)\n",
    "\n",
    "# Define custom models\n",
    "models = {\n",
    "    'BernoulliNB': BernoulliNB(),\n",
    "    'ComplementNB': ComplementNB(),\n",
    "    'GaussianNB': GaussianNB(),\n",
    "    'NearestCentroid': NearestCentroid(),\n",
    "    'MultinomialNB': MultinomialNB()\n",
    "}\n",
    "\n",
    "# Train and evaluate models\n",
    "for name, model in models.items():\n",
    "    print(f\"Training {name}...\")\n",
    "\n",
    "    if name == 'GaussianNB':\n",
    "        model.fit(X_train_scaled, y_train)\n",
    "        predictions = model.predict(X_test_scaled)\n",
    "    elif name == 'BernoulliNB':\n",
    "        model.fit(X_train_binary, y_train) \n",
    "        predictions = model.predict(X_test_binary)\n",
    "    else:\n",
    "        model.fit(X_train, y_train)  \n",
    "        predictions = model.predict(X_test)\n",
    "\n",
    "    accuracy = accuracy_score(y_test, predictions)\n",
    "    print(f\"{name} Accuracy: {accuracy:.4f}\")\n"
   ]
  },
  {
   "cell_type": "code",
   "execution_count": 24,
   "metadata": {
    "colab": {
     "base_uri": "https://localhost:8080/"
    },
    "id": "5uP6yp2mvxSd",
    "outputId": "6fccf68e-6179-4e89-b4ba-e53261b97495"
   },
   "outputs": [
    {
     "name": "stdout",
     "output_type": "stream",
     "text": [
      "Training BernoulliNB...\n",
      "BernoulliNB Accuracy: 0.7400\n",
      "Training ComplementNB...\n",
      "ComplementNB Accuracy: 0.7333\n",
      "Training GaussianNB...\n",
      "GaussianNB Accuracy: 0.7533\n",
      "Training NearestCentroid...\n",
      "NearestCentroid Accuracy: 0.6800\n",
      "Training MultinomialNB...\n",
      "MultinomialNB Accuracy: 0.7333\n"
     ]
    }
   ],
   "source": [
    "blood_transfusion = openml.datasets.get_dataset(1464)\n",
    "X, y, _, _ = blood_transfusion.get_data(target=blood_transfusion.default_target_attribute)\n",
    "\n",
    "X_train, X_test, y_train, y_test = train_test_split(X, y, test_size=0.2, random_state=42)\n",
    "\n",
    "scaler = StandardScaler()\n",
    "X_train_scaled = scaler.fit_transform(X_train)\n",
    "X_test_scaled = scaler.transform(X_test)\n",
    "\n",
    "X_train_binary = (X_train > X_train.mean(axis=0)).astype(int)\n",
    "X_test_binary = (X_test > X_test.mean(axis=0)).astype(int)\n",
    "\n",
    "for name, model in models.items():\n",
    "    print(f\"Training {name}...\")\n",
    "\n",
    "    if name == 'GaussianNB':\n",
    "        model.fit(X_train_scaled, y_train)\n",
    "        predictions = model.predict(X_test_scaled)\n",
    "    elif name == 'BernoulliNB':\n",
    "        model.fit(X_train_binary, y_train)\n",
    "        predictions = model.predict(X_test_binary)\n",
    "    else:\n",
    "        model.fit(X_train, y_train)\n",
    "        predictions = model.predict(X_test)\n",
    "\n",
    "    accuracy = accuracy_score(y_test, predictions)\n",
    "    print(f\"{name} Accuracy: {accuracy:.4f}\")\n"
   ]
  },
  {
   "cell_type": "code",
   "execution_count": 25,
   "metadata": {
    "colab": {
     "base_uri": "https://localhost:8080/"
    },
    "id": "dlLpzkF_v6qv",
    "outputId": "e87c6615-1e28-490c-d517-7cbdcf51ee7c"
   },
   "outputs": [
    {
     "name": "stdout",
     "output_type": "stream",
     "text": [
      "Training BernoulliNB...\n",
      "BernoulliNB Accuracy: 0.7400\n",
      "Training ComplementNB...\n",
      "ComplementNB Accuracy: 0.7333\n",
      "Training GaussianNB...\n",
      "GaussianNB Accuracy: 0.7533\n",
      "Training NearestCentroid...\n",
      "NearestCentroid Accuracy: 0.6800\n",
      "Training MultinomialNB...\n",
      "MultinomialNB Accuracy: 0.7333\n"
     ]
    }
   ],
   "source": [
    "blood_transfusion = openml.datasets.get_dataset(1464)\n",
    "X, y, _, _ = blood_transfusion.get_data(target=blood_transfusion.default_target_attribute)\n",
    "\n",
    "X_train, X_test, y_train, y_test = train_test_split(X, y, test_size=0.2, random_state=42)\n",
    "\n",
    "scaler = StandardScaler()\n",
    "X_train_scaled = scaler.fit_transform(X_train)\n",
    "X_test_scaled = scaler.transform(X_test)\n",
    "\n",
    "X_train_binary = (X_train > X_train.mean(axis=0)).astype(int)\n",
    "X_test_binary = (X_test > X_test.mean(axis=0)).astype(int)\n",
    "\n",
    "for name, model in models.items():\n",
    "    print(f\"Training {name}...\")\n",
    "\n",
    "    if name == 'GaussianNB':\n",
    "        model.fit(X_train_scaled, y_train)\n",
    "        predictions = model.predict(X_test_scaled)\n",
    "    elif name == 'BernoulliNB':\n",
    "        model.fit(X_train_binary, y_train)\n",
    "        predictions = model.predict(X_test_binary)\n",
    "    else:\n",
    "        model.fit(X_train, y_train)\n",
    "        predictions = model.predict(X_test)\n",
    "\n",
    "    accuracy = accuracy_score(y_test, predictions)\n",
    "    print(f\"{name} Accuracy: {accuracy:.4f}\")\n"
   ]
  },
  {
   "cell_type": "code",
   "execution_count": 26,
   "metadata": {
    "colab": {
     "base_uri": "https://localhost:8080/"
    },
    "id": "sFe4-T9ZwIQ3",
    "outputId": "527eddef-8944-44ca-b6b8-9e0b86965a0c"
   },
   "outputs": [
    {
     "name": "stdout",
     "output_type": "stream",
     "text": [
      "Training BernoulliNB...\n",
      "BernoulliNB Accuracy: 0.7400\n",
      "Training ComplementNB...\n",
      "ComplementNB Accuracy: 0.7333\n",
      "Training GaussianNB...\n",
      "GaussianNB Accuracy: 0.7533\n",
      "Training NearestCentroid...\n",
      "NearestCentroid Accuracy: 0.6800\n",
      "Training MultinomialNB...\n",
      "MultinomialNB Accuracy: 0.7333\n"
     ]
    }
   ],
   "source": [
    "liver_disorders = openml.datasets.get_dataset(1464)\n",
    "X, y, _, _ = liver_disorders.get_data(target=liver_disorders.default_target_attribute)\n",
    "\n",
    "X_train, X_test, y_train, y_test = train_test_split(X, y, test_size=0.2, random_state=42)\n",
    "\n",
    "scaler = StandardScaler()\n",
    "X_train_scaled = scaler.fit_transform(X_train)\n",
    "X_test_scaled = scaler.transform(X_test)\n",
    "\n",
    "X_train_binary = (X_train > X_train.mean(axis=0)).astype(int)\n",
    "X_test_binary = (X_test > X_test.mean(axis=0)).astype(int)\n",
    "\n",
    "for name, model in models.items():\n",
    "    print(f\"Training {name}...\")\n",
    "\n",
    "    if name == 'GaussianNB':\n",
    "        model.fit(X_train_scaled, y_train)\n",
    "        predictions = model.predict(X_test_scaled)\n",
    "    elif name == 'BernoulliNB':\n",
    "        model.fit(X_train_binary, y_train)\n",
    "        predictions = model.predict(X_test_binary)\n",
    "    else:\n",
    "        model.fit(X_train, y_train)\n",
    "        predictions = model.predict(X_test)\n",
    "\n",
    "    accuracy = accuracy_score(y_test, predictions)\n",
    "    print(f\"{name} Accuracy: {accuracy:.4f}\")\n"
   ]
  },
  {
   "cell_type": "code",
   "execution_count": 27,
   "metadata": {
    "colab": {
     "base_uri": "https://localhost:8080/"
    },
    "id": "MiF9r-zXwKkM",
    "outputId": "fdec2b37-bb86-4384-a9f5-01f7eba99682"
   },
   "outputs": [
    {
     "name": "stdout",
     "output_type": "stream",
     "text": [
      "Training BernoulliNB...\n",
      "BernoulliNB Accuracy: 0.7400\n",
      "Training ComplementNB...\n",
      "ComplementNB Accuracy: 0.7333\n",
      "Training GaussianNB...\n",
      "GaussianNB Accuracy: 0.7533\n",
      "Training NearestCentroid...\n",
      "NearestCentroid Accuracy: 0.6800\n",
      "Training MultinomialNB...\n",
      "MultinomialNB Accuracy: 0.7333\n"
     ]
    }
   ],
   "source": [
    "credit_approval = openml.datasets.get_dataset(1464)\n",
    "X, y, _, _ = credit_approval.get_data(target=credit_approval.default_target_attribute)\n",
    "\n",
    "X_train, X_test, y_train, y_test = train_test_split(X, y, test_size=0.2, random_state=42)\n",
    "\n",
    "scaler = StandardScaler()\n",
    "X_train_scaled = scaler.fit_transform(X_train)\n",
    "X_test_scaled = scaler.transform(X_test)\n",
    "\n",
    "X_train_binary = (X_train > X_train.mean(axis=0)).astype(int)\n",
    "X_test_binary = (X_test > X_test.mean(axis=0)).astype(int)\n",
    "\n",
    "for name, model in models.items():\n",
    "    print(f\"Training {name}...\")\n",
    "\n",
    "    if name == 'GaussianNB':\n",
    "        model.fit(X_train_scaled, y_train)\n",
    "        predictions = model.predict(X_test_scaled)\n",
    "    elif name == 'BernoulliNB':\n",
    "        model.fit(X_train_binary, y_train)\n",
    "        predictions = model.predict(X_test_binary)\n",
    "    else:\n",
    "        model.fit(X_train, y_train)\n",
    "        predictions = model.predict(X_test)\n",
    "\n",
    "    accuracy = accuracy_score(y_test, predictions)\n",
    "    print(f\"{name} Accuracy: {accuracy:.4f}\")\n"
   ]
  },
  {
   "cell_type": "code",
   "execution_count": 28,
   "metadata": {
    "colab": {
     "base_uri": "https://localhost:8080/"
    },
    "id": "G7aYa8k8wM13",
    "outputId": "a4e16d82-d3a2-4998-d860-e0629d0f5ee0"
   },
   "outputs": [
    {
     "name": "stdout",
     "output_type": "stream",
     "text": [
      "Training BernoulliNB...\n",
      "BernoulliNB Accuracy: 0.7400\n",
      "Training ComplementNB...\n",
      "ComplementNB Accuracy: 0.7333\n",
      "Training GaussianNB...\n",
      "GaussianNB Accuracy: 0.7533\n",
      "Training NearestCentroid...\n",
      "NearestCentroid Accuracy: 0.6800\n",
      "Training MultinomialNB...\n",
      "MultinomialNB Accuracy: 0.7333\n"
     ]
    }
   ],
   "source": [
    "mushroom = openml.datasets.get_dataset(1464)\n",
    "X, y, _, _ = mushroom.get_data(target=mushroom.default_target_attribute)\n",
    "\n",
    "X_train, X_test, y_train, y_test = train_test_split(X, y, test_size=0.2, random_state=42)\n",
    "\n",
    "scaler = StandardScaler()\n",
    "X_train_scaled = scaler.fit_transform(X_train)\n",
    "X_test_scaled = scaler.transform(X_test)\n",
    "\n",
    "X_train_binary = (X_train > X_train.mean(axis=0)).astype(int)\n",
    "X_test_binary = (X_test > X_test.mean(axis=0)).astype(int)\n",
    "\n",
    "for name, model in models.items():\n",
    "    print(f\"Training {name}...\")\n",
    "\n",
    "    if name == 'GaussianNB':\n",
    "        model.fit(X_train_scaled, y_train)\n",
    "        predictions = model.predict(X_test_scaled)\n",
    "    elif name == 'BernoulliNB':\n",
    "        model.fit(X_train_binary, y_train)\n",
    "        predictions = model.predict(X_test_binary)\n",
    "    else:\n",
    "        model.fit(X_train, y_train)\n",
    "        predictions = model.predict(X_test)\n",
    "\n",
    "    accuracy = accuracy_score(y_test, predictions)\n",
    "    print(f\"{name} Accuracy: {accuracy:.4f}\")\n"
   ]
  },
  {
   "cell_type": "code",
   "execution_count": 29,
   "metadata": {
    "colab": {
     "base_uri": "https://localhost:8080/"
    },
    "id": "OYcTnP0fwP5A",
    "outputId": "34c8cc67-58f1-4364-a6ae-884efb745fee"
   },
   "outputs": [
    {
     "name": "stdout",
     "output_type": "stream",
     "text": [
      "Training BernoulliNB...\n",
      "BernoulliNB Accuracy: 0.7400\n",
      "Training ComplementNB...\n",
      "ComplementNB Accuracy: 0.7333\n",
      "Training GaussianNB...\n",
      "GaussianNB Accuracy: 0.7533\n",
      "Training NearestCentroid...\n",
      "NearestCentroid Accuracy: 0.6800\n",
      "Training MultinomialNB...\n",
      "MultinomialNB Accuracy: 0.7333\n"
     ]
    }
   ],
   "source": [
    "phishing = openml.datasets.get_dataset(1464)\n",
    "X, y, _, _ = phishing.get_data(target=phishing.default_target_attribute)\n",
    "\n",
    "X_train, X_test, y_train, y_test = train_test_split(X, y, test_size=0.2, random_state=42)\n",
    "\n",
    "scaler = StandardScaler()\n",
    "X_train_scaled = scaler.fit_transform(X_train)\n",
    "X_test_scaled = scaler.transform(X_test)\n",
    "\n",
    "X_train_binary = (X_train > X_train.mean(axis=0)).astype(int)\n",
    "X_test_binary = (X_test > X_test.mean(axis=0)).astype(int)\n",
    "\n",
    "for name, model in models.items():\n",
    "    print(f\"Training {name}...\")\n",
    "\n",
    "    if name == 'GaussianNB':\n",
    "        model.fit(X_train_scaled, y_train)\n",
    "        predictions = model.predict(X_test_scaled)\n",
    "    elif name == 'BernoulliNB':\n",
    "        model.fit(X_train_binary, y_train)\n",
    "        predictions = model.predict(X_test_binary)\n",
    "    else:\n",
    "        model.fit(X_train, y_train)\n",
    "        predictions = model.predict(X_test)\n",
    "\n",
    "    accuracy = accuracy_score(y_test, predictions)\n",
    "    print(f\"{name} Accuracy: {accuracy:.4f}\")\n"
   ]
  },
  {
   "cell_type": "markdown",
   "metadata": {
    "id": "YF3zgnpURKr1"
   },
   "source": []
  }
 ],
 "metadata": {
  "colab": {
   "provenance": []
  },
  "kernelspec": {
   "display_name": "Python 3",
   "name": "python3"
  },
  "language_info": {
   "name": "python"
  }
 },
 "nbformat": 4,
 "nbformat_minor": 0
}
